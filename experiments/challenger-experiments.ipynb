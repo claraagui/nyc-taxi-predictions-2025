{
 "cells": [
  {
   "cell_type": "markdown",
   "id": "e0f6aca1",
   "metadata": {},
   "source": [
    "# Tarea 5"
   ]
  },
  {
   "cell_type": "code",
   "execution_count": 1,
   "id": "2f29abca",
   "metadata": {},
   "outputs": [],
   "source": [
    "# Cargar librerías\n",
    "import os, mlflow\n",
    "from dotenv import load_dotenv\n",
    "import pickle\n",
    "import pandas as pd\n",
    "from sklearn.metrics import  root_mean_squared_error\n",
    "from sklearn.feature_extraction import  DictVectorizer\n",
    "import math\n",
    "import optuna\n",
    "import pathlib\n",
    "import xgboost as xgb\n",
    "from optuna.samplers import TPESampler\n",
    "from mlflow.models.signature import infer_signature\n",
    "from mlflow import MlflowClient\n",
    "import mlflow"
   ]
  },
  {
   "cell_type": "markdown",
   "id": "364d9672",
   "metadata": {},
   "source": [
    "### Iniciar el experimento"
   ]
  },
  {
   "cell_type": "code",
   "execution_count": 2,
   "id": "bfafb7fc",
   "metadata": {},
   "outputs": [],
   "source": [
    "load_dotenv(override=True)  # Carga las variables del archivo .env\n",
    "EXPERIMENT_NAME = \"/Users/aclarapao@gmail.com/nyc-taxi-experiments\"\n",
    "\n",
    "mlflow.set_tracking_uri(\"databricks\")\n",
    "experiment = mlflow.set_experiment(experiment_name=EXPERIMENT_NAME)"
   ]
  },
  {
   "cell_type": "markdown",
   "id": "2e34c187",
   "metadata": {},
   "source": [
    "### Pre-Procesamiento"
   ]
  },
  {
   "cell_type": "code",
   "execution_count": 3,
   "id": "c410aa31",
   "metadata": {},
   "outputs": [],
   "source": [
    "def read_dataframe(filename):\n",
    "\n",
    "    df = pd.read_parquet(filename)\n",
    "\n",
    "    df['duration'] = df.lpep_dropoff_datetime - df.lpep_pickup_datetime\n",
    "    df.duration = df.duration.apply(lambda td: td.total_seconds() / 60)\n",
    "\n",
    "    df = df[(df.duration >= 1) & (df.duration <= 60)]\n",
    "\n",
    "    categorical = ['PULocationID', 'DOLocationID']\n",
    "    df[categorical] = df[categorical].astype(str)\n",
    "\n",
    "    return df\n",
    "\n",
    "df_train = read_dataframe('../data/green_tripdata_2025-01.parquet')\n",
    "df_val = read_dataframe('../data/green_tripdata_2025-02.parquet')"
   ]
  },
  {
   "cell_type": "code",
   "execution_count": 4,
   "id": "07cdeedc",
   "metadata": {},
   "outputs": [],
   "source": [
    "def preprocess(df, dv):\n",
    "    df['PU_DO'] = df['PULocationID'] + '_' + df['DOLocationID']\n",
    "    categorical = ['PU_DO']\n",
    "    numerical = ['trip_distance']\n",
    "    train_dicts = df[categorical + numerical].to_dict(orient='records')\n",
    "    return dv.transform(train_dicts)\n",
    "\n",
    "df_train['PU_DO'] = df_train['PULocationID'] + '_' + df_train['DOLocationID']\n",
    "categorical = ['PU_DO']\n",
    "numerical = ['trip_distance']\n",
    "dv = DictVectorizer()\n",
    "\n",
    "train_dicts = df_train[categorical + numerical].to_dict(orient='records')\n",
    "X_train = dv.fit_transform(train_dicts)\n",
    "\n",
    "X_val = preprocess(df_val, dv)"
   ]
  },
  {
   "cell_type": "code",
   "execution_count": 5,
   "id": "b3853bd4",
   "metadata": {},
   "outputs": [],
   "source": [
    "target = 'duration'\n",
    "y_train = df_train[target].values\n",
    "y_val = df_val[target].values"
   ]
  },
  {
   "cell_type": "markdown",
   "id": "12db18b2",
   "metadata": {},
   "source": [
    "### Gradient Boost"
   ]
  },
  {
   "cell_type": "code",
   "execution_count": 6,
   "id": "2c55dca8",
   "metadata": {},
   "outputs": [],
   "source": [
    "from sklearn.ensemble import GradientBoostingRegressor\n",
    "\n",
    "def objective_gb(trial: optuna.trial.Trial):\n",
    "    # Hiperparámetros MUESTREADOS por Optuna en CADA trial.\n",
    "    # Nota: usamos log=True para emular rangos log-uniformes (similar a loguniform).\n",
    "    params = {\n",
    "        \"n_estimators\": trial.suggest_int(\"n_estimators\", 50, 100),\n",
    "        \"learning_rate\": trial.suggest_float(\"learning_rate\", 0.01, 0.3, log=True),\n",
    "        \"max_depth\": trial.suggest_int(\"max_depth\", 2, 10),\n",
    "        \"min_samples_split\": trial.suggest_int(\"min_samples_split\", 2, 10),\n",
    "        \"min_samples_leaf\": trial.suggest_int(\"min_samples_leaf\", 1, 10),\n",
    "        \"random_state\": 42\n",
    "    }\n",
    "\n",
    "    # Run anidado para dejar rastro de cada trial en MLflow\n",
    "    with mlflow.start_run(nested=True):\n",
    "        mlflow.set_tag(\"model_family\", \"gradient_boosting\")  # etiqueta informativa\n",
    "        mlflow.log_params(params)                  # registra hiperparámetros del trial\n",
    "\n",
    "        # Entrenamiento \n",
    "        model = GradientBoostingRegressor(**params)\n",
    "        model.fit(X_train, y_train)\n",
    "        y_pred = model.predict(X_val)\n",
    "        rmse = root_mean_squared_error(y_val, y_pred)\n",
    "\n",
    "        # Registrar la métrica principal\n",
    "        mlflow.log_metric(\"rmse\", rmse)\n",
    "\n",
    "        # La \"signature\" describe la estructura esperada de entrada y salida del modelo:\n",
    "        # incluye los nombres, tipos y forma (shape) de las variables de entrada y el tipo de salida.\n",
    "        # MLflow la usa para validar datos en inferencia y documentar el modelo en el Model Registry.\n",
    "        signature = infer_signature(X_val[:5].toarray(), y_pred[:5])\n",
    "\n",
    "         # Guardar el modelo del trial como artefacto en MLflow.\n",
    "        mlflow.sklearn.log_model(\n",
    "            model,\n",
    "            name=\"model\",\n",
    "            input_example=pd.DataFrame(X_val[:5].toarray(), columns=dv.get_feature_names_out()),\n",
    "            signature=signature\n",
    "        )      \n",
    "\n",
    "    # Optuna minimiza el valor retornado\n",
    "    return rmse"
   ]
  },
  {
   "cell_type": "code",
   "execution_count": 8,
   "id": "b37b2355",
   "metadata": {},
   "outputs": [
    {
     "name": "stderr",
     "output_type": "stream",
     "text": [
      "[I 2025-10-28 18:30:54,550] A new study created in memory with name: no-name-ac77cfee-0967-4f30-8d27-fd7b670db4b5\n",
      "2025/10/28 18:31:47 WARNING mlflow.utils.environment: Failed to resolve installed pip version. ``pip`` will be added to conda.yaml environment spec without a version specifier.\n"
     ]
    },
    {
     "data": {
      "application/vnd.jupyter.widget-view+json": {
       "model_id": "4fa3a096a1664178a8ea9114b7d263bc",
       "version_major": 2,
       "version_minor": 0
      },
      "text/plain": [
       "Downloading artifacts:   0%|          | 0/7 [00:00<?, ?it/s]"
      ]
     },
     "metadata": {},
     "output_type": "display_data"
    },
    {
     "name": "stderr",
     "output_type": "stream",
     "text": [
      "2025/10/28 18:31:49 INFO mlflow.models.model: Found the following environment variables used during model inference: [DATABRICKS_HOST, DATABRICKS_TOKEN]. Please check if you need to set them when deploying the model. To disable this message, set environment variable `MLFLOW_RECORD_ENV_VARS_IN_MODEL_LOGGING` to `false`.\n"
     ]
    },
    {
     "name": "stdout",
     "output_type": "stream",
     "text": [
      "🏃 View run omniscient-asp-80 at: https://dbc-2a5806a7-a130.cloud.databricks.com/ml/experiments/4060777923239000/runs/c414eae07dbe455ebb27baa054b1c043\n",
      "🧪 View experiment at: https://dbc-2a5806a7-a130.cloud.databricks.com/ml/experiments/4060777923239000\n"
     ]
    },
    {
     "name": "stderr",
     "output_type": "stream",
     "text": [
      "[I 2025-10-28 18:31:52,375] Trial 0 finished with value: 5.423033869318215 and parameters: {'n_estimators': 69, 'learning_rate': 0.2536999076681772, 'max_depth': 8, 'min_samples_split': 7, 'min_samples_leaf': 2}. Best is trial 0 with value: 5.423033869318215.\n",
      "2025/10/28 18:32:13 WARNING mlflow.utils.environment: Failed to resolve installed pip version. ``pip`` will be added to conda.yaml environment spec without a version specifier.\n"
     ]
    },
    {
     "data": {
      "application/vnd.jupyter.widget-view+json": {
       "model_id": "c058929e7d5f47b69a58e3823bf56fa6",
       "version_major": 2,
       "version_minor": 0
      },
      "text/plain": [
       "Downloading artifacts:   0%|          | 0/7 [00:00<?, ?it/s]"
      ]
     },
     "metadata": {},
     "output_type": "display_data"
    },
    {
     "name": "stderr",
     "output_type": "stream",
     "text": [
      "2025/10/28 18:32:15 INFO mlflow.models.model: Found the following environment variables used during model inference: [DATABRICKS_HOST, DATABRICKS_TOKEN]. Please check if you need to set them when deploying the model. To disable this message, set environment variable `MLFLOW_RECORD_ENV_VARS_IN_MODEL_LOGGING` to `false`.\n"
     ]
    },
    {
     "name": "stdout",
     "output_type": "stream",
     "text": [
      "🏃 View run bustling-perch-963 at: https://dbc-2a5806a7-a130.cloud.databricks.com/ml/experiments/4060777923239000/runs/28a47a9be1e54fb988935609e17cbe3c\n",
      "🧪 View experiment at: https://dbc-2a5806a7-a130.cloud.databricks.com/ml/experiments/4060777923239000\n"
     ]
    },
    {
     "name": "stderr",
     "output_type": "stream",
     "text": [
      "[I 2025-10-28 18:32:24,310] Trial 1 finished with value: 6.667930901959873 and parameters: {'n_estimators': 57, 'learning_rate': 0.012184186502221764, 'max_depth': 9, 'min_samples_split': 7, 'min_samples_leaf': 8}. Best is trial 0 with value: 5.423033869318215.\n",
      "2025/10/28 18:32:44 WARNING mlflow.utils.environment: Failed to resolve installed pip version. ``pip`` will be added to conda.yaml environment spec without a version specifier.\n"
     ]
    },
    {
     "data": {
      "application/vnd.jupyter.widget-view+json": {
       "model_id": "39f5dd091d924ded9e0a8e5187800b18",
       "version_major": 2,
       "version_minor": 0
      },
      "text/plain": [
       "Downloading artifacts:   0%|          | 0/7 [00:00<?, ?it/s]"
      ]
     },
     "metadata": {},
     "output_type": "display_data"
    },
    {
     "name": "stderr",
     "output_type": "stream",
     "text": [
      "2025/10/28 18:32:46 INFO mlflow.models.model: Found the following environment variables used during model inference: [DATABRICKS_HOST, DATABRICKS_TOKEN]. Please check if you need to set them when deploying the model. To disable this message, set environment variable `MLFLOW_RECORD_ENV_VARS_IN_MODEL_LOGGING` to `false`.\n",
      "[I 2025-10-28 18:32:49,857] Trial 2 finished with value: 5.418235873807679 and parameters: {'n_estimators': 51, 'learning_rate': 0.2708160864249968, 'max_depth': 9, 'min_samples_split': 3, 'min_samples_leaf': 2}. Best is trial 2 with value: 5.418235873807679.\n"
     ]
    },
    {
     "name": "stdout",
     "output_type": "stream",
     "text": [
      "🏃 View run trusting-crow-478 at: https://dbc-2a5806a7-a130.cloud.databricks.com/ml/experiments/4060777923239000/runs/18a1596fc21c4bf8a0e586e7bfab8246\n",
      "🧪 View experiment at: https://dbc-2a5806a7-a130.cloud.databricks.com/ml/experiments/4060777923239000\n"
     ]
    },
    {
     "name": "stderr",
     "output_type": "stream",
     "text": [
      "2025/10/28 18:33:10 WARNING mlflow.utils.environment: Failed to resolve installed pip version. ``pip`` will be added to conda.yaml environment spec without a version specifier.\n"
     ]
    },
    {
     "data": {
      "application/vnd.jupyter.widget-view+json": {
       "model_id": "7eeef01fc6344a41a89976db7ec14ece",
       "version_major": 2,
       "version_minor": 0
      },
      "text/plain": [
       "Downloading artifacts:   0%|          | 0/7 [00:00<?, ?it/s]"
      ]
     },
     "metadata": {},
     "output_type": "display_data"
    },
    {
     "name": "stderr",
     "output_type": "stream",
     "text": [
      "c:\\Users\\Clara\\Documents\\Semestre5\\ProyectoDS\\nyc-taxi-predictions-2025\\.venv\\Lib\\site-packages\\sklearn\\utils\\validation.py:2742: UserWarning: X has feature names, but GradientBoostingRegressor was fitted without feature names\n",
      "  warnings.warn(\n",
      "2025/10/28 18:33:15 INFO mlflow.models.model: Found the following environment variables used during model inference: [DATABRICKS_HOST, DATABRICKS_TOKEN]. Please check if you need to set them when deploying the model. To disable this message, set environment variable `MLFLOW_RECORD_ENV_VARS_IN_MODEL_LOGGING` to `false`.\n"
     ]
    },
    {
     "name": "stdout",
     "output_type": "stream",
     "text": [
      "🏃 View run Gradient Boosting Hyperparameter Optimization (Optuna) at: https://dbc-2a5806a7-a130.cloud.databricks.com/ml/experiments/4060777923239000/runs/6740b1855bde4fea81cb1d7aa6f5580e\n",
      "🧪 View experiment at: https://dbc-2a5806a7-a130.cloud.databricks.com/ml/experiments/4060777923239000\n"
     ]
    }
   ],
   "source": [
    "mlflow.sklearn.autolog(log_models=False)\n",
    "\n",
    "# ------------------------------------------------------------\n",
    "# Crear el estudio de Optuna\n",
    "#    - Usamos TPE (Tree-structured Parzen Estimator) como sampler.\n",
    "#    - direction=\"minimize\" porque queremos minimizar el RMSE.\n",
    "# ------------------------------------------------------------\n",
    "sampler = TPESampler(seed=42)\n",
    "study_gb = optuna.create_study(direction=\"minimize\", sampler=sampler)\n",
    "\n",
    "# ------------------------------------------------------------\n",
    "# Ejecutar la optimización (n_trials = número de intentos)\n",
    "#    - Cada trial ejecuta la función objetivo con un set distinto de hiperparámetros.\n",
    "#    - Abrimos un run \"padre\" para agrupar toda la búsqueda.\n",
    "# ------------------------------------------------------------\n",
    "\n",
    "with mlflow.start_run(run_name=\"Gradient Boosting Hyperparameter Optimization (Optuna)\", nested=True):\n",
    "    study_gb.optimize(objective_gb, n_trials=3)\n",
    "\n",
    "        # --------------------------------------------------------\n",
    "    # Recuperar y registrar los mejores hiperparámetros\n",
    "    # --------------------------------------------------------\n",
    "    best_params = study_gb.best_params\n",
    "    best_params[\"random_state\"] = 42\n",
    "\n",
    "    mlflow.log_params(best_params)\n",
    "    # Etiquetas del run \"padre\" (metadatos del experimento)\n",
    "    mlflow.set_tags({\n",
    "        \"project\": \"NYC Taxi Time Prediction Project\",\n",
    "        \"optimizer_engine\": \"optuna\",\n",
    "        \"model_family\": \"gradient_boosting\",\n",
    "        \"feature_set_version\": 1,\n",
    "    })\n",
    "\n",
    "     # --------------------------------------------------------\n",
    "    # 7) Entrenar un modelo FINAL con los mejores hiperparámetros\n",
    "    #    (normalmente se haría sobre train+val o con CV; aquí mantenemos el patrón original)\n",
    "    # --------------------------------------------------------\n",
    "    \n",
    "    model = GradientBoostingRegressor(**best_params)\n",
    "    model.fit(X_train, y_train)\n",
    "    y_pred = model.predict(X_val)\n",
    "    rmse = root_mean_squared_error(y_val, y_pred)\n",
    "    mlflow.log_metric(\"rmse\", rmse)\n",
    "\n",
    "    # --------------------------------------------------------\n",
    "    # 8) Guardar artefactos adicionales (p. ej. el preprocesador)\n",
    "    # --------------------------------------------------------\n",
    "    \n",
    "    pathlib.Path(\"preprocessor\").mkdir(exist_ok=True)\n",
    "    with open(\"preprocessor/preprocessor.b\", \"wb\") as f_out:\n",
    "        pickle.dump(dv, f_out)\n",
    "\n",
    "    mlflow.log_artifact(\"preprocessor/preprocessor.b\", artifact_path=\"preprocessor\")\n",
    "\n",
    "    # La \"signature\" describe la estructura esperada de entrada y salida del modelo:\n",
    "    # incluye los nombres, tipos y forma (shape) de las variables de entrada y el tipo de salida.\n",
    "    # MLflow la usa para validar datos en inferencia y documentar el modelo en el Model Registry.\n",
    "    # Si X_val es la matriz dispersa (scipy.sparse) salida de DictVectorizer:\n",
    "    \n",
    "    input_example = pd.DataFrame(X_val[:5].toarray(), columns=dv.get_feature_names_out())\n",
    "    signature = infer_signature(input_example, y_val[:5])\n",
    "\n",
    "    # Guardar el modelo del trial como artefacto en MLflow.\n",
    "    mlflow.sklearn.log_model(model, name=\"model\", input_example=input_example, signature=signature)"
   ]
  },
  {
   "cell_type": "markdown",
   "id": "9218ad41",
   "metadata": {},
   "source": [
    "### Random Forest"
   ]
  },
  {
   "cell_type": "code",
   "execution_count": 9,
   "id": "1fa47a66",
   "metadata": {},
   "outputs": [],
   "source": [
    "from sklearn.ensemble import RandomForestRegressor\n",
    "\n",
    "mlflow.sklearn.autolog(log_models=False)\n",
    "\n",
    "def objective_rf(trial: optuna.trial.Trial):\n",
    "    # Hiperparámetros MUESTREADOS por Optuna en CADA trial.\n",
    "    # Nota: usamos log=True para emular rangos log-uniformes (similar a loguniform).\n",
    "    params = {\n",
    "        \"n_estimators\": trial.suggest_int(\"n_estimators\", 50, 100),\n",
    "        \"max_depth\": trial.suggest_int(\"max_depth\", 5, 30),\n",
    "        \"min_samples_split\": trial.suggest_int(\"min_samples_split\", 2, 10),\n",
    "        \"min_samples_leaf\": trial.suggest_int(\"min_samples_leaf\", 1, 10),\n",
    "        \"random_state\": 42,\n",
    "        \"n_jobs\": -1\n",
    "    }\n",
    "\n",
    "    # Run anidado para dejar rastro de cada trial en MLflow\n",
    "    with mlflow.start_run(nested=True):\n",
    "        mlflow.set_tag(\"model_family\", \"random_forest\")\n",
    "        mlflow.log_params(params)\n",
    "\n",
    "        # Entrenamiento \n",
    "        model = RandomForestRegressor(**params)\n",
    "        model.fit(X_train, y_train)\n",
    "        y_pred = model.predict(X_val)\n",
    "        rmse = root_mean_squared_error(y_val, y_pred)\n",
    "\n",
    "        # Registrar la métrica principal\n",
    "        mlflow.log_metric(\"rmse\", rmse)\n",
    "\n",
    "        # La \"signature\" describe la estructura esperada de entrada y salida del modelo:\n",
    "        # incluye los nombres, tipos y forma (shape) de las variables de entrada y el tipo de salida.\n",
    "        # MLflow la usa para validar datos en inferencia y documentar el modelo en el Model Registry.\n",
    "        signature = infer_signature(X_val[:5].toarray(), y_pred[:5])\n",
    "        \n",
    "        # Guardar el modelo del trial como artefacto en MLflow.\n",
    "        mlflow.sklearn.log_model(\n",
    "            model,\n",
    "            name=\"model\",\n",
    "            input_example=pd.DataFrame(X_val[:5].toarray(), columns=dv.get_feature_names_out()),\n",
    "            signature=signature\n",
    "        )\n",
    "\n",
    "    return rmse"
   ]
  },
  {
   "cell_type": "code",
   "execution_count": 10,
   "id": "efffbb66",
   "metadata": {},
   "outputs": [
    {
     "name": "stderr",
     "output_type": "stream",
     "text": [
      "[I 2025-10-28 18:37:06,919] A new study created in memory with name: no-name-5c3de02b-49b2-45cf-8c5c-bc6b4e7cfb82\n",
      "2025/10/28 18:37:31 WARNING mlflow.utils.environment: Failed to resolve installed pip version. ``pip`` will be added to conda.yaml environment spec without a version specifier.\n"
     ]
    },
    {
     "data": {
      "application/vnd.jupyter.widget-view+json": {
       "model_id": "1cf918d1e9e7448d85b0dfa49136080b",
       "version_major": 2,
       "version_minor": 0
      },
      "text/plain": [
       "Downloading artifacts:   0%|          | 0/7 [00:00<?, ?it/s]"
      ]
     },
     "metadata": {},
     "output_type": "display_data"
    },
    {
     "name": "stderr",
     "output_type": "stream",
     "text": [
      "2025/10/28 18:37:34 INFO mlflow.models.model: Found the following environment variables used during model inference: [DATABRICKS_HOST, DATABRICKS_TOKEN]. Please check if you need to set them when deploying the model. To disable this message, set environment variable `MLFLOW_RECORD_ENV_VARS_IN_MODEL_LOGGING` to `false`.\n"
     ]
    },
    {
     "name": "stdout",
     "output_type": "stream",
     "text": [
      "🏃 View run skittish-hawk-214 at: https://dbc-2a5806a7-a130.cloud.databricks.com/ml/experiments/4060777923239000/runs/c5c9abfd33ca46c495a1d8e6c7e0095f\n",
      "🧪 View experiment at: https://dbc-2a5806a7-a130.cloud.databricks.com/ml/experiments/4060777923239000\n"
     ]
    },
    {
     "name": "stderr",
     "output_type": "stream",
     "text": [
      "[I 2025-10-28 18:38:10,187] Trial 0 finished with value: 5.535684811605542 and parameters: {'n_estimators': 69, 'max_depth': 29, 'min_samples_split': 8, 'min_samples_leaf': 6}. Best is trial 0 with value: 5.535684811605542.\n",
      "2025/10/28 18:38:25 WARNING mlflow.utils.environment: Failed to resolve installed pip version. ``pip`` will be added to conda.yaml environment spec without a version specifier.\n"
     ]
    },
    {
     "data": {
      "application/vnd.jupyter.widget-view+json": {
       "model_id": "de6e0e265d654942833870e561c7ac56",
       "version_major": 2,
       "version_minor": 0
      },
      "text/plain": [
       "Downloading artifacts:   0%|          | 0/7 [00:00<?, ?it/s]"
      ]
     },
     "metadata": {},
     "output_type": "display_data"
    },
    {
     "name": "stderr",
     "output_type": "stream",
     "text": [
      "2025/10/28 18:38:28 INFO mlflow.models.model: Found the following environment variables used during model inference: [DATABRICKS_HOST, DATABRICKS_TOKEN]. Please check if you need to set them when deploying the model. To disable this message, set environment variable `MLFLOW_RECORD_ENV_VARS_IN_MODEL_LOGGING` to `false`.\n",
      "[I 2025-10-28 18:38:34,076] Trial 1 finished with value: 5.591476239254621 and parameters: {'n_estimators': 57, 'max_depth': 9, 'min_samples_split': 2, 'min_samples_leaf': 9}. Best is trial 0 with value: 5.535684811605542.\n"
     ]
    },
    {
     "name": "stdout",
     "output_type": "stream",
     "text": [
      "🏃 View run capricious-dove-104 at: https://dbc-2a5806a7-a130.cloud.databricks.com/ml/experiments/4060777923239000/runs/1c852020c36e4ec091481c995fa2e69e\n",
      "🧪 View experiment at: https://dbc-2a5806a7-a130.cloud.databricks.com/ml/experiments/4060777923239000\n"
     ]
    },
    {
     "name": "stderr",
     "output_type": "stream",
     "text": [
      "2025/10/28 18:38:53 WARNING mlflow.utils.environment: Failed to resolve installed pip version. ``pip`` will be added to conda.yaml environment spec without a version specifier.\n"
     ]
    },
    {
     "data": {
      "application/vnd.jupyter.widget-view+json": {
       "model_id": "04733929ae9144d791552ceecfb3b14f",
       "version_major": 2,
       "version_minor": 0
      },
      "text/plain": [
       "Downloading artifacts:   0%|          | 0/7 [00:00<?, ?it/s]"
      ]
     },
     "metadata": {},
     "output_type": "display_data"
    },
    {
     "name": "stderr",
     "output_type": "stream",
     "text": [
      "2025/10/28 18:38:55 INFO mlflow.models.model: Found the following environment variables used during model inference: [DATABRICKS_HOST, DATABRICKS_TOKEN]. Please check if you need to set them when deploying the model. To disable this message, set environment variable `MLFLOW_RECORD_ENV_VARS_IN_MODEL_LOGGING` to `false`.\n",
      "[I 2025-10-28 18:39:24,336] Trial 2 finished with value: 5.600874046133536 and parameters: {'n_estimators': 80, 'max_depth': 23, 'min_samples_split': 2, 'min_samples_leaf': 10}. Best is trial 0 with value: 5.535684811605542.\n"
     ]
    },
    {
     "name": "stdout",
     "output_type": "stream",
     "text": [
      "🏃 View run auspicious-slug-11 at: https://dbc-2a5806a7-a130.cloud.databricks.com/ml/experiments/4060777923239000/runs/f02e982b02b344c683a3ae07fab25e8f\n",
      "🧪 View experiment at: https://dbc-2a5806a7-a130.cloud.databricks.com/ml/experiments/4060777923239000\n"
     ]
    },
    {
     "name": "stderr",
     "output_type": "stream",
     "text": [
      "2025/10/28 18:39:59 WARNING mlflow.utils.environment: Failed to resolve installed pip version. ``pip`` will be added to conda.yaml environment spec without a version specifier.\n"
     ]
    },
    {
     "data": {
      "application/vnd.jupyter.widget-view+json": {
       "model_id": "388332ae3e9f4934b942ac8221e90beb",
       "version_major": 2,
       "version_minor": 0
      },
      "text/plain": [
       "Downloading artifacts:   0%|          | 0/7 [00:00<?, ?it/s]"
      ]
     },
     "metadata": {},
     "output_type": "display_data"
    },
    {
     "name": "stderr",
     "output_type": "stream",
     "text": [
      "2025/10/28 18:40:06 INFO mlflow.models.model: Found the following environment variables used during model inference: [DATABRICKS_HOST, DATABRICKS_TOKEN]. Please check if you need to set them when deploying the model. To disable this message, set environment variable `MLFLOW_RECORD_ENV_VARS_IN_MODEL_LOGGING` to `false`.\n",
      "[I 2025-10-28 18:40:21,003] Trial 3 finished with value: 5.556766672109476 and parameters: {'n_estimators': 92, 'max_depth': 10, 'min_samples_split': 3, 'min_samples_leaf': 2}. Best is trial 0 with value: 5.535684811605542.\n"
     ]
    },
    {
     "name": "stdout",
     "output_type": "stream",
     "text": [
      "🏃 View run nimble-stag-624 at: https://dbc-2a5806a7-a130.cloud.databricks.com/ml/experiments/4060777923239000/runs/59f45bdea2db45c7b759f0e5d66ac21b\n",
      "🧪 View experiment at: https://dbc-2a5806a7-a130.cloud.databricks.com/ml/experiments/4060777923239000\n"
     ]
    },
    {
     "name": "stderr",
     "output_type": "stream",
     "text": [
      "2025/10/28 18:40:37 WARNING mlflow.utils.environment: Failed to resolve installed pip version. ``pip`` will be added to conda.yaml environment spec without a version specifier.\n"
     ]
    },
    {
     "data": {
      "application/vnd.jupyter.widget-view+json": {
       "model_id": "ef36281524ee4373b2887e257b1175b0",
       "version_major": 2,
       "version_minor": 0
      },
      "text/plain": [
       "Downloading artifacts:   0%|          | 0/7 [00:00<?, ?it/s]"
      ]
     },
     "metadata": {},
     "output_type": "display_data"
    },
    {
     "name": "stderr",
     "output_type": "stream",
     "text": [
      "2025/10/28 18:40:40 INFO mlflow.models.model: Found the following environment variables used during model inference: [DATABRICKS_HOST, DATABRICKS_TOKEN]. Please check if you need to set them when deploying the model. To disable this message, set environment variable `MLFLOW_RECORD_ENV_VARS_IN_MODEL_LOGGING` to `false`.\n"
     ]
    },
    {
     "name": "stdout",
     "output_type": "stream",
     "text": [
      "🏃 View run incongruous-lynx-710 at: https://dbc-2a5806a7-a130.cloud.databricks.com/ml/experiments/4060777923239000/runs/8db13b998d184e23ab34a451e1ab45aa\n",
      "🧪 View experiment at: https://dbc-2a5806a7-a130.cloud.databricks.com/ml/experiments/4060777923239000\n"
     ]
    },
    {
     "name": "stderr",
     "output_type": "stream",
     "text": [
      "[I 2025-10-28 18:41:28,771] Trial 4 finished with value: 5.489056041015845 and parameters: {'n_estimators': 65, 'max_depth': 18, 'min_samples_split': 5, 'min_samples_leaf': 3}. Best is trial 4 with value: 5.489056041015845.\n",
      "2025/10/28 18:42:03 WARNING mlflow.utils.environment: Failed to resolve installed pip version. ``pip`` will be added to conda.yaml environment spec without a version specifier.\n"
     ]
    },
    {
     "data": {
      "application/vnd.jupyter.widget-view+json": {
       "model_id": "96a58a30a12f4ca89096ea226a285d76",
       "version_major": 2,
       "version_minor": 0
      },
      "text/plain": [
       "Downloading artifacts:   0%|          | 0/7 [00:00<?, ?it/s]"
      ]
     },
     "metadata": {},
     "output_type": "display_data"
    },
    {
     "name": "stderr",
     "output_type": "stream",
     "text": [
      "c:\\Users\\Clara\\Documents\\Semestre5\\ProyectoDS\\nyc-taxi-predictions-2025\\.venv\\Lib\\site-packages\\sklearn\\utils\\validation.py:2742: UserWarning: X has feature names, but RandomForestRegressor was fitted without feature names\n",
      "  warnings.warn(\n",
      "2025/10/28 18:42:08 INFO mlflow.models.model: Found the following environment variables used during model inference: [DATABRICKS_HOST, DATABRICKS_TOKEN]. Please check if you need to set them when deploying the model. To disable this message, set environment variable `MLFLOW_RECORD_ENV_VARS_IN_MODEL_LOGGING` to `false`.\n"
     ]
    },
    {
     "name": "stdout",
     "output_type": "stream",
     "text": [
      "🏃 View run Random Forest Hyperparameter Optimization (Optuna) at: https://dbc-2a5806a7-a130.cloud.databricks.com/ml/experiments/4060777923239000/runs/370f728bcf5843eaafd7a2923df4fb02\n",
      "🧪 View experiment at: https://dbc-2a5806a7-a130.cloud.databricks.com/ml/experiments/4060777923239000\n"
     ]
    }
   ],
   "source": [
    "# ------------------------------------------------------------\n",
    "# Crear el estudio de Optuna\n",
    "#    - Usamos TPE (Tree-structured Parzen Estimator) como sampler.\n",
    "#    - direction=\"minimize\" porque queremos minimizar el RMSE.\n",
    "# ------------------------------------------------------------\n",
    "sampler = TPESampler(seed=42)\n",
    "study_rf = optuna.create_study(direction=\"minimize\", sampler=sampler)\n",
    "\n",
    "# ------------------------------------------------------------\n",
    "# Ejecutar la optimización (n_trials = número de intentos)\n",
    "#    - Cada trial ejecuta la función objetivo con un set distinto de hiperparámetros.\n",
    "#    - Abrimos un run \"padre\" para agrupar toda la búsqueda.\n",
    "# ------------------------------------------------------------\n",
    "\n",
    "with mlflow.start_run(run_name=\"Random Forest Hyperparameter Optimization (Optuna)\", nested=True):\n",
    "    study_rf.optimize(objective_rf, n_trials=5)\n",
    "\n",
    "    # Recuperar y registrar los mejores hiperparámetros\n",
    "    best_params = study_rf.best_params\n",
    "    best_params[\"random_state\"] = 42\n",
    "\n",
    "    mlflow.log_params(best_params)\n",
    "    # Etiquetas del run \"padre\" (metadatos del experimento)\n",
    "    mlflow.set_tags({\n",
    "        \"project\": \"NYC Taxi Time Prediction Project\",\n",
    "        \"optimizer_engine\": \"optuna\",\n",
    "        \"model_family\": \"random_forest\",\n",
    "        \"feature_set_version\": 1,\n",
    "    })\n",
    "\n",
    "     # --------------------------------------------------------\n",
    "    # 7) Entrenar un modelo FINAL con los mejores hiperparámetros\n",
    "    #    (normalmente se haría sobre train+val o con CV; aquí mantenemos el patrón original)\n",
    "    # --------------------------------------------------------\n",
    "    \n",
    "    model = RandomForestRegressor(**best_params)\n",
    "    model.fit(X_train, y_train)\n",
    "    y_pred = model.predict(X_val)\n",
    "    rmse = root_mean_squared_error(y_val, y_pred)\n",
    "    mlflow.log_metric(\"rmse\", rmse)\n",
    "\n",
    "    # 8) Guardar artefactos adicionales (p. ej. el preprocesador)\n",
    "    \n",
    "    pathlib.Path(\"preprocessor\").mkdir(exist_ok=True)\n",
    "    with open(\"preprocessor/preprocessor.b\", \"wb\") as f_out:\n",
    "        pickle.dump(dv, f_out)\n",
    "\n",
    "    mlflow.log_artifact(\"preprocessor/preprocessor.b\", artifact_path=\"preprocessor\")\n",
    "\n",
    "     # La \"signature\" describe la estructura esperada de entrada y salida del modelo:\n",
    "    # incluye los nombres, tipos y forma (shape) de las variables de entrada y el tipo de salida.\n",
    "    # MLflow la usa para validar datos en inferencia y documentar el modelo en el Model Registry.\n",
    "    # Si X_val es la matriz dispersa (scipy.sparse) salida de DictVectorizer:\n",
    "    \n",
    "    input_example = pd.DataFrame(X_val[:5].toarray(), columns=dv.get_feature_names_out())\n",
    "    signature = infer_signature(input_example, y_val[:5])\n",
    "\n",
    "    mlflow.sklearn.log_model(model, name=\"model\", input_example=input_example, signature=signature)"
   ]
  },
  {
   "cell_type": "markdown",
   "id": "23ffc4d2",
   "metadata": {},
   "source": [
    "### Registrar modelo en Model Registry"
   ]
  },
  {
   "cell_type": "code",
   "execution_count": 11,
   "id": "112dbe5d",
   "metadata": {},
   "outputs": [],
   "source": [
    "model_name = \"workspace.default.nyc-taxi-model\""
   ]
  },
  {
   "cell_type": "code",
   "execution_count": 34,
   "id": "37a0d25c",
   "metadata": {},
   "outputs": [],
   "source": [
    "CHAMPIO_RUN = \"efaf6a662ed744568149beaf015d16d9\"\n",
    "CHALLENGER_RUN = \"370f728bcf5843eaafd7a2923df4fb02\""
   ]
  },
  {
   "cell_type": "code",
   "execution_count": null,
   "id": "b0289e29",
   "metadata": {},
   "outputs": [
    {
     "name": "stderr",
     "output_type": "stream",
     "text": [
      "Registered model 'workspace.default.nyc-taxi-model' already exists. Creating a new version of this model...\n",
      "2025/10/28 18:45:43 WARNING mlflow.tracking._model_registry.fluent: Run with id 370f728bcf5843eaafd7a2923df4fb02 has no artifacts at artifact path 'model', registering model based on models:/m-f2a4d069467046908e4439c9d95f978c instead\n"
     ]
    },
    {
     "data": {
      "application/vnd.jupyter.widget-view+json": {
       "model_id": "44e56b339f914f1088399570deae0b1e",
       "version_major": 2,
       "version_minor": 0
      },
      "text/plain": [
       "Downloading artifacts:   0%|          | 0/8 [00:00<?, ?it/s]"
      ]
     },
     "metadata": {},
     "output_type": "display_data"
    },
    {
     "data": {
      "application/vnd.jupyter.widget-view+json": {
       "model_id": "69138d5409894ef39664171da36c4c21",
       "version_major": 2,
       "version_minor": 0
      },
      "text/plain": [
       "Uploading artifacts:   0%|          | 0/9 [00:00<?, ?it/s]"
      ]
     },
     "metadata": {},
     "output_type": "display_data"
    },
    {
     "name": "stderr",
     "output_type": "stream",
     "text": [
      "Created version '2' of model 'workspace.default.nyc-taxi-model'.\n"
     ]
    }
   ],
   "source": [
    "run_id = \"370f728bcf5843eaafd7a2923df4fb02\"\n",
    "\n",
    "# Registrar el mejor modelo\n",
    "result = mlflow.register_model(\n",
    "    model_uri=f\"runs:/{run_id}/model\",\n",
    "    name=model_name\n",
    ")"
   ]
  },
  {
   "cell_type": "code",
   "execution_count": 13,
   "id": "cbeb1176",
   "metadata": {},
   "outputs": [],
   "source": [
    "client = MlflowClient()\n",
    "\n",
    "model_version = result.version\n",
    "new_alias = \"Challenger\"\n",
    "\n",
    "client.set_registered_model_alias(\n",
    "    name=model_name,\n",
    "    alias=new_alias,\n",
    "    version=result.version\n",
    ")"
   ]
  },
  {
   "cell_type": "markdown",
   "id": "ee5739ef",
   "metadata": {},
   "source": []
  },
  {
   "cell_type": "code",
   "execution_count": 36,
   "id": "2b116083",
   "metadata": {},
   "outputs": [
    {
     "data": {
      "application/vnd.jupyter.widget-view+json": {
       "model_id": "38adcb5f52414d4a93495339aa9bdd67",
       "version_major": 2,
       "version_minor": 0
      },
      "text/plain": [
       "Downloading artifacts:   0%|          | 0/1 [00:00<?, ?it/s]"
      ]
     },
     "metadata": {},
     "output_type": "display_data"
    },
    {
     "data": {
      "application/vnd.jupyter.widget-view+json": {
       "model_id": "0f7b44a606c84b2ba81a339d8a78f529",
       "version_major": 2,
       "version_minor": 0
      },
      "text/plain": [
       "Downloading artifacts:   0%|          | 0/7 [00:00<?, ?it/s]"
      ]
     },
     "metadata": {},
     "output_type": "display_data"
    },
    {
     "name": "stderr",
     "output_type": "stream",
     "text": [
      "c:\\Users\\Clara\\Documents\\Semestre5\\ProyectoDS\\nyc-taxi-predictions-2025\\.venv\\Lib\\site-packages\\mlflow\\xgboost\\__init__.py:321: UserWarning: [19:25:55] WARNING: C:\\actions-runner\\_work\\xgboost\\xgboost\\src\\c_api\\c_api.cc:1511: Unknown file format: `xgb`. Using UBJSON (`ubj`) as a guess.\n",
      "  model.load_model(xgb_model_path)\n"
     ]
    },
    {
     "data": {
      "application/vnd.jupyter.widget-view+json": {
       "model_id": "7af7479fb53d43f0b1d56d8ea3634923",
       "version_major": 2,
       "version_minor": 0
      },
      "text/plain": [
       "Downloading artifacts:   0%|          | 0/1 [00:00<?, ?it/s]"
      ]
     },
     "metadata": {},
     "output_type": "display_data"
    },
    {
     "data": {
      "application/vnd.jupyter.widget-view+json": {
       "model_id": "f609e17d5d784226b937322abf599f0d",
       "version_major": 2,
       "version_minor": 0
      },
      "text/plain": [
       "Downloading artifacts:   0%|          | 0/8 [00:00<?, ?it/s]"
      ]
     },
     "metadata": {},
     "output_type": "display_data"
    }
   ],
   "source": [
    "import mlflow.pyfunc\n",
    "champion_uri = f\"runs:/{CHAMPIO_RUN}/model\"\n",
    "challenger_uri = f\"runs:/{CHALLENGER_RUN}/model\"\n",
    "\n",
    "champion_version = mlflow.pyfunc.load_model(champion_uri)\n",
    "challenger_version = mlflow.pyfunc.load_model(challenger_uri)"
   ]
  },
  {
   "cell_type": "code",
   "execution_count": 37,
   "id": "ac2ad16f",
   "metadata": {},
   "outputs": [],
   "source": [
    "df_val = read_dataframe('../data/green_tripdata_2025-03.parquet')"
   ]
  },
  {
   "cell_type": "code",
   "execution_count": 38,
   "id": "15d4db38",
   "metadata": {},
   "outputs": [],
   "source": [
    "df_val['PU_DO'] = df_val['PULocationID'] + '_' + df_val['DOLocationID']\n",
    "categorical = ['PU_DO']\n",
    "numerical = ['trip_distance']\n",
    "\n",
    "with open(\"preprocessor/preprocessor.b\", \"rb\") as f:\n",
    "    dv = pickle.load(f)\n",
    "\n",
    "reveal_dicts = df_val[categorical + numerical].to_dict(orient='records')\n",
    "X_val = preprocess(df_val, dv)"
   ]
  },
  {
   "cell_type": "code",
   "execution_count": 39,
   "id": "355d8bc9",
   "metadata": {},
   "outputs": [],
   "source": [
    "target = 'duration'\n",
    "y_val = df_val[target].values\n",
    "\n",
    "y_train = y_train.astype(int)"
   ]
  },
  {
   "cell_type": "code",
   "execution_count": 40,
   "id": "c277f62f",
   "metadata": {},
   "outputs": [],
   "source": [
    "val_dataset = mlflow.data.from_numpy(X_val.data, targets=y_val, name=\"green_tripdata_2025-03\")"
   ]
  },
  {
   "cell_type": "markdown",
   "id": "7a712211",
   "metadata": {},
   "source": [
    "En este caso mi champion fue mejor a comparación del challenger, y mi mejor modelo fue random forest"
   ]
  },
  {
   "cell_type": "code",
   "execution_count": 41,
   "id": "9941f51f",
   "metadata": {},
   "outputs": [
    {
     "ename": "MlflowException",
     "evalue": "Failed to enforce schema of data '<Compressed Sparse Row sparse matrix of dtype 'float64'\n\twith 93697 stored elements and shape (48336, 4159)>\n  Coords\tValues\n  (0, 3391)\t1.0\n  (0, 4158)\t2.2\n  (1, 2497)\t1.0\n  (1, 4158)\t1.06\n  (2, 4158)\t18.91\n  (3, 3717)\t1.0\n  (3, 4158)\t8.36\n  (4, 3072)\t1.0\n  (4, 4158)\t0.82\n  (5, 4158)\t4.94\n  (6, 2150)\t1.0\n  (6, 4158)\t0.81\n  (7, 1798)\t1.0\n  (7, 4158)\t1.56\n  (8, 3412)\t1.0\n  (8, 4158)\t1.53\n  (9, 3996)\t1.0\n  (9, 4158)\t4.56\n  (10, 3582)\t1.0\n  (10, 4158)\t0.89\n  (11, 4041)\t1.0\n  (11, 4158)\t1.17\n  (12, 3953)\t1.0\n  (12, 4158)\t2.48\n  (13, 4158)\t2.65\n  :\t:\n  (48323, 1762)\t1.0\n  (48323, 4158)\t9.1\n  (48324, 2497)\t1.0\n  (48324, 4158)\t1.54\n  (48325, 642)\t1.0\n  (48325, 4158)\t1.51\n  (48326, 4158)\t8.28\n  (48327, 758)\t1.0\n  (48327, 4158)\t3.3\n  (48328, 3097)\t1.0\n  (48328, 4158)\t2.25\n  (48329, 799)\t1.0\n  (48329, 4158)\t1.09\n  (48330, 798)\t1.0\n  (48330, 4158)\t1.92\n  (48331, 2038)\t1.0\n  (48331, 4158)\t1.57\n  (48332, 3275)\t1.0\n  (48332, 4158)\t2.31\n  (48333, 3000)\t1.0\n  (48333, 4158)\t3.57\n  (48334, 3415)\t1.0\n  (48334, 4158)\t13.51\n  (48335, 1826)\t1.0\n  (48335, 4158)\t4.64' with schema '[Tensor('float64', (-1, 449))]'. Error: Shape of input (48336, 4159) does not match expected shape (-1, 449).",
     "output_type": "error",
     "traceback": [
      "\u001b[31m---------------------------------------------------------------------------\u001b[39m",
      "\u001b[31mMlflowException\u001b[39m                           Traceback (most recent call last)",
      "\u001b[36mFile \u001b[39m\u001b[32mc:\\Users\\Clara\\Documents\\Semestre5\\ProyectoDS\\nyc-taxi-predictions-2025\\.venv\\Lib\\site-packages\\mlflow\\pyfunc\\__init__.py:735\u001b[39m, in \u001b[36m_validate_prediction_input\u001b[39m\u001b[34m(data, params, input_schema, params_schema, flavor)\u001b[39m\n\u001b[32m    734\u001b[39m \u001b[38;5;28;01mtry\u001b[39;00m:\n\u001b[32m--> \u001b[39m\u001b[32m735\u001b[39m     data = \u001b[43m_enforce_schema\u001b[49m\u001b[43m(\u001b[49m\u001b[43mdata\u001b[49m\u001b[43m,\u001b[49m\u001b[43m \u001b[49m\u001b[43minput_schema\u001b[49m\u001b[43m,\u001b[49m\u001b[43m \u001b[49m\u001b[43mflavor\u001b[49m\u001b[43m)\u001b[49m\n\u001b[32m    736\u001b[39m \u001b[38;5;28;01mexcept\u001b[39;00m \u001b[38;5;167;01mException\u001b[39;00m \u001b[38;5;28;01mas\u001b[39;00m e:\n",
      "\u001b[36mFile \u001b[39m\u001b[32mc:\\Users\\Clara\\Documents\\Semestre5\\ProyectoDS\\nyc-taxi-predictions-2025\\.venv\\Lib\\site-packages\\mlflow\\models\\utils.py:1276\u001b[39m, in \u001b[36m_enforce_schema\u001b[39m\u001b[34m(pf_input, input_schema, flavor)\u001b[39m\n\u001b[32m   1275\u001b[39m \u001b[38;5;28;01mif\u001b[39;00m input_schema.is_tensor_spec():\n\u001b[32m-> \u001b[39m\u001b[32m1276\u001b[39m     \u001b[38;5;28;01mreturn\u001b[39;00m \u001b[43m_enforce_tensor_schema\u001b[49m\u001b[43m(\u001b[49m\u001b[43mpf_input\u001b[49m\u001b[43m,\u001b[49m\u001b[43m \u001b[49m\u001b[43minput_schema\u001b[49m\u001b[43m)\u001b[49m\n\u001b[32m   1277\u001b[39m \u001b[38;5;28;01melif\u001b[39;00m HAS_PYSPARK \u001b[38;5;129;01mand\u001b[39;00m \u001b[38;5;28misinstance\u001b[39m(original_pf_input, SparkDataFrame):\n",
      "\u001b[36mFile \u001b[39m\u001b[32mc:\\Users\\Clara\\Documents\\Semestre5\\ProyectoDS\\nyc-taxi-predictions-2025\\.venv\\Lib\\site-packages\\mlflow\\models\\utils.py:1118\u001b[39m, in \u001b[36m_enforce_tensor_schema\u001b[39m\u001b[34m(pf_input, input_schema)\u001b[39m\n\u001b[32m   1117\u001b[39m \u001b[38;5;28;01melif\u001b[39;00m \u001b[38;5;28misinstance\u001b[39m(pf_input, np.ndarray) \u001b[38;5;129;01mor\u001b[39;00m _is_sparse_matrix(pf_input):\n\u001b[32m-> \u001b[39m\u001b[32m1118\u001b[39m     new_pf_input = \u001b[43m_enforce_tensor_spec\u001b[49m\u001b[43m(\u001b[49m\u001b[43mpf_input\u001b[49m\u001b[43m,\u001b[49m\u001b[43m \u001b[49m\u001b[43mtensor_spec\u001b[49m\u001b[43m)\u001b[49m\n\u001b[32m   1119\u001b[39m \u001b[38;5;28;01melse\u001b[39;00m:\n",
      "\u001b[36mFile \u001b[39m\u001b[32mc:\\Users\\Clara\\Documents\\Semestre5\\ProyectoDS\\nyc-taxi-predictions-2025\\.venv\\Lib\\site-packages\\mlflow\\models\\utils.py:733\u001b[39m, in \u001b[36m_enforce_tensor_spec\u001b[39m\u001b[34m(values, tensor_spec)\u001b[39m\n\u001b[32m    732\u001b[39m     \u001b[38;5;28;01mif\u001b[39;00m expected != actual:\n\u001b[32m--> \u001b[39m\u001b[32m733\u001b[39m         \u001b[38;5;28;01mraise\u001b[39;00m MlflowException(\n\u001b[32m    734\u001b[39m             \u001b[33mf\u001b[39m\u001b[33m\"\u001b[39m\u001b[33mShape of input \u001b[39m\u001b[38;5;132;01m{\u001b[39;00mactual_shape\u001b[38;5;132;01m}\u001b[39;00m\u001b[33m does not match expected shape \u001b[39m\u001b[38;5;132;01m{\u001b[39;00mexpected_shape\u001b[38;5;132;01m}\u001b[39;00m\u001b[33m.\u001b[39m\u001b[33m\"\u001b[39m\n\u001b[32m    735\u001b[39m         )\n\u001b[32m    736\u001b[39m \u001b[38;5;28;01mif\u001b[39;00m clean_tensor_type(actual_type) != expected_type:\n",
      "\u001b[31mMlflowException\u001b[39m: Shape of input (48336, 4159) does not match expected shape (-1, 449).",
      "\nDuring handling of the above exception, another exception occurred:\n",
      "\u001b[31mMlflowException\u001b[39m                           Traceback (most recent call last)",
      "\u001b[36mCell\u001b[39m\u001b[36m \u001b[39m\u001b[32mIn[41]\u001b[39m\u001b[32m, line 1\u001b[39m\n\u001b[32m----> \u001b[39m\u001b[32m1\u001b[39m y_champ_pred = \u001b[43mchampion_version\u001b[49m\u001b[43m.\u001b[49m\u001b[43mpredict\u001b[49m\u001b[43m(\u001b[49m\u001b[43mX_val\u001b[49m\u001b[43m)\u001b[49m\n\u001b[32m      2\u001b[39m y_challenger_pred = challenger_version.predict(X_val)\n",
      "\u001b[36mFile \u001b[39m\u001b[32mc:\\Users\\Clara\\Documents\\Semestre5\\ProyectoDS\\nyc-taxi-predictions-2025\\.venv\\Lib\\site-packages\\mlflow\\pyfunc\\__init__.py:846\u001b[39m, in \u001b[36mPyFuncModel.predict\u001b[39m\u001b[34m(self, data, params)\u001b[39m\n\u001b[32m    844\u001b[39m \u001b[38;5;28;01mif\u001b[39;00m \u001b[38;5;28mself\u001b[39m.model_id:\n\u001b[32m    845\u001b[39m     context.update(model_id=\u001b[38;5;28mself\u001b[39m.model_id)\n\u001b[32m--> \u001b[39m\u001b[32m846\u001b[39m \u001b[38;5;28;01mreturn\u001b[39;00m \u001b[38;5;28;43mself\u001b[39;49m\u001b[43m.\u001b[49m\u001b[43m_predict\u001b[49m\u001b[43m(\u001b[49m\u001b[43mdata\u001b[49m\u001b[43m,\u001b[49m\u001b[43m \u001b[49m\u001b[43mparams\u001b[49m\u001b[43m)\u001b[49m\n",
      "\u001b[36mFile \u001b[39m\u001b[32mc:\\Users\\Clara\\Documents\\Semestre5\\ProyectoDS\\nyc-taxi-predictions-2025\\.venv\\Lib\\site-packages\\mlflow\\pyfunc\\__init__.py:885\u001b[39m, in \u001b[36mPyFuncModel._predict\u001b[39m\u001b[34m(self, data, params)\u001b[39m\n\u001b[32m    883\u001b[39m     params = _enforce_params_schema(params, \u001b[38;5;28mself\u001b[39m.params_schema)\n\u001b[32m    884\u001b[39m \u001b[38;5;28;01melse\u001b[39;00m:\n\u001b[32m--> \u001b[39m\u001b[32m885\u001b[39m     data, params = \u001b[43m_validate_prediction_input\u001b[49m\u001b[43m(\u001b[49m\n\u001b[32m    886\u001b[39m \u001b[43m        \u001b[49m\u001b[43mdata\u001b[49m\u001b[43m,\u001b[49m\u001b[43m \u001b[49m\u001b[43mparams\u001b[49m\u001b[43m,\u001b[49m\u001b[43m \u001b[49m\u001b[38;5;28;43mself\u001b[39;49m\u001b[43m.\u001b[49m\u001b[43minput_schema\u001b[49m\u001b[43m,\u001b[49m\u001b[43m \u001b[49m\u001b[38;5;28;43mself\u001b[39;49m\u001b[43m.\u001b[49m\u001b[43mparams_schema\u001b[49m\u001b[43m,\u001b[49m\u001b[43m \u001b[49m\u001b[38;5;28;43mself\u001b[39;49m\u001b[43m.\u001b[49m\u001b[43mloader_module\u001b[49m\n\u001b[32m    887\u001b[39m \u001b[43m    \u001b[49m\u001b[43m)\u001b[49m\n\u001b[32m    888\u001b[39m     \u001b[38;5;28;01mif\u001b[39;00m (\n\u001b[32m    889\u001b[39m         \u001b[38;5;28misinstance\u001b[39m(data, pandas.DataFrame)\n\u001b[32m    890\u001b[39m         \u001b[38;5;129;01mand\u001b[39;00m \u001b[38;5;28mself\u001b[39m.metadata._is_type_hint_from_example()\n\u001b[32m    891\u001b[39m         \u001b[38;5;129;01mand\u001b[39;00m \u001b[38;5;28mself\u001b[39m.input_example \u001b[38;5;129;01mis\u001b[39;00m \u001b[38;5;129;01mnot\u001b[39;00m \u001b[38;5;28;01mNone\u001b[39;00m\n\u001b[32m    892\u001b[39m     ):\n\u001b[32m    893\u001b[39m         data = _convert_dataframe_to_example_format(data, \u001b[38;5;28mself\u001b[39m.input_example)\n",
      "\u001b[36mFile \u001b[39m\u001b[32mc:\\Users\\Clara\\Documents\\Semestre5\\ProyectoDS\\nyc-taxi-predictions-2025\\.venv\\Lib\\site-packages\\mlflow\\pyfunc\\__init__.py:746\u001b[39m, in \u001b[36m_validate_prediction_input\u001b[39m\u001b[34m(data, params, input_schema, params_schema, flavor)\u001b[39m\n\u001b[32m    739\u001b[39m         \u001b[38;5;28;01melse\u001b[39;00m:\n\u001b[32m    740\u001b[39m             \u001b[38;5;66;03m# Include error in message for backwards compatibility\u001b[39;00m\n\u001b[32m    741\u001b[39m             message = (\n\u001b[32m    742\u001b[39m                 \u001b[33mf\u001b[39m\u001b[33m\"\u001b[39m\u001b[33mFailed to enforce schema of data \u001b[39m\u001b[33m'\u001b[39m\u001b[38;5;132;01m{\u001b[39;00mdata\u001b[38;5;132;01m}\u001b[39;00m\u001b[33m'\u001b[39m\u001b[33m \u001b[39m\u001b[33m\"\u001b[39m\n\u001b[32m    743\u001b[39m                 \u001b[33mf\u001b[39m\u001b[33m\"\u001b[39m\u001b[33mwith schema \u001b[39m\u001b[33m'\u001b[39m\u001b[38;5;132;01m{\u001b[39;00minput_schema\u001b[38;5;132;01m}\u001b[39;00m\u001b[33m'\u001b[39m\u001b[33m. \u001b[39m\u001b[33m\"\u001b[39m\n\u001b[32m    744\u001b[39m                 \u001b[33mf\u001b[39m\u001b[33m\"\u001b[39m\u001b[33mError: \u001b[39m\u001b[38;5;132;01m{\u001b[39;00me\u001b[38;5;132;01m}\u001b[39;00m\u001b[33m\"\u001b[39m\n\u001b[32m    745\u001b[39m             )\n\u001b[32m--> \u001b[39m\u001b[32m746\u001b[39m         \u001b[38;5;28;01mraise\u001b[39;00m MlflowException.invalid_parameter_value(message)\n\u001b[32m    747\u001b[39m params = _enforce_params_schema(params, params_schema)\n\u001b[32m    748\u001b[39m \u001b[38;5;28;01mif\u001b[39;00m HAS_PYSPARK \u001b[38;5;129;01mand\u001b[39;00m \u001b[38;5;28misinstance\u001b[39m(data, SparkDataFrame):\n",
      "\u001b[31mMlflowException\u001b[39m: Failed to enforce schema of data '<Compressed Sparse Row sparse matrix of dtype 'float64'\n\twith 93697 stored elements and shape (48336, 4159)>\n  Coords\tValues\n  (0, 3391)\t1.0\n  (0, 4158)\t2.2\n  (1, 2497)\t1.0\n  (1, 4158)\t1.06\n  (2, 4158)\t18.91\n  (3, 3717)\t1.0\n  (3, 4158)\t8.36\n  (4, 3072)\t1.0\n  (4, 4158)\t0.82\n  (5, 4158)\t4.94\n  (6, 2150)\t1.0\n  (6, 4158)\t0.81\n  (7, 1798)\t1.0\n  (7, 4158)\t1.56\n  (8, 3412)\t1.0\n  (8, 4158)\t1.53\n  (9, 3996)\t1.0\n  (9, 4158)\t4.56\n  (10, 3582)\t1.0\n  (10, 4158)\t0.89\n  (11, 4041)\t1.0\n  (11, 4158)\t1.17\n  (12, 3953)\t1.0\n  (12, 4158)\t2.48\n  (13, 4158)\t2.65\n  :\t:\n  (48323, 1762)\t1.0\n  (48323, 4158)\t9.1\n  (48324, 2497)\t1.0\n  (48324, 4158)\t1.54\n  (48325, 642)\t1.0\n  (48325, 4158)\t1.51\n  (48326, 4158)\t8.28\n  (48327, 758)\t1.0\n  (48327, 4158)\t3.3\n  (48328, 3097)\t1.0\n  (48328, 4158)\t2.25\n  (48329, 799)\t1.0\n  (48329, 4158)\t1.09\n  (48330, 798)\t1.0\n  (48330, 4158)\t1.92\n  (48331, 2038)\t1.0\n  (48331, 4158)\t1.57\n  (48332, 3275)\t1.0\n  (48332, 4158)\t2.31\n  (48333, 3000)\t1.0\n  (48333, 4158)\t3.57\n  (48334, 3415)\t1.0\n  (48334, 4158)\t13.51\n  (48335, 1826)\t1.0\n  (48335, 4158)\t4.64' with schema '[Tensor('float64', (-1, 449))]'. Error: Shape of input (48336, 4159) does not match expected shape (-1, 449)."
     ]
    }
   ],
   "source": [
    "y_champ_pred = champion_version.predict(X_val)\n",
    "y_challenger_pred = challenger_version.predict(X_val)"
   ]
  },
  {
   "cell_type": "code",
   "execution_count": null,
   "id": "1fe95034",
   "metadata": {},
   "outputs": [],
   "source": []
  }
 ],
 "metadata": {
  "kernelspec": {
   "display_name": "nyc-taxi-predictions-2025",
   "language": "python",
   "name": "python3"
  },
  "language_info": {
   "codemirror_mode": {
    "name": "ipython",
    "version": 3
   },
   "file_extension": ".py",
   "mimetype": "text/x-python",
   "name": "python",
   "nbconvert_exporter": "python",
   "pygments_lexer": "ipython3",
   "version": "3.11.5"
  }
 },
 "nbformat": 4,
 "nbformat_minor": 5
}
